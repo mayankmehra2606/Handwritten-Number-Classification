{
  "nbformat": 4,
  "nbformat_minor": 0,
  "metadata": {
    "colab": {
      "name": "Handwritting_Number_Classification.ipynb",
      "provenance": [],
      "collapsed_sections": [],
      "toc_visible": true,
      "authorship_tag": "ABX9TyNFC+eL4sjwz6OvDz6lQyQG",
      "include_colab_link": true
    },
    "kernelspec": {
      "name": "python3",
      "display_name": "Python 3"
    },
    "language_info": {
      "name": "python"
    }
  },
  "cells": [
    {
      "cell_type": "markdown",
      "metadata": {
        "id": "view-in-github",
        "colab_type": "text"
      },
      "source": [
        "<a href=\"https://colab.research.google.com/github/mayankmehra2606/Handwritten-Number-Classification/blob/main/Handwritting_Number_Classification.ipynb\" target=\"_parent\"><img src=\"https://colab.research.google.com/assets/colab-badge.svg\" alt=\"Open In Colab\"/></a>"
      ]
    },
    {
      "cell_type": "code",
      "metadata": {
        "id": "XbfJplIZRLMv",
        "colab": {
          "base_uri": "https://localhost:8080/"
        },
        "outputId": "ca3755ab-698b-48e0-9954-bfd38e1c58e2"
      },
      "source": [
        "import cv2\n",
        "import seaborn as sns\n",
        "import matplotlib.pyplot as plt\n",
        "import tensorflow.keras as tf\n",
        "import numpy as np\n",
        "mnist=tf.datasets.mnist\n",
        "(Xtrain,Ytrain),(Xtest,Ytest)=mnist.load_data()\n",
        "print(Xtrain.shape)\n",
        "print(Xtest.shape)"
      ],
      "execution_count": null,
      "outputs": [
        {
          "output_type": "stream",
          "name": "stdout",
          "text": [
            "Downloading data from https://storage.googleapis.com/tensorflow/tf-keras-datasets/mnist.npz\n",
            "11493376/11490434 [==============================] - 0s 0us/step\n",
            "11501568/11490434 [==============================] - 0s 0us/step\n",
            "(60000, 28, 28)\n",
            "(10000, 28, 28)\n"
          ]
        }
      ]
    },
    {
      "cell_type": "code",
      "source": [
        "Xtrain[145]\n",
        "Ytrain[145]\n",
        "plt.imshow(Xtrain[145],cmap='gray')\n",
        "plt.show()\n",
        "plt.imshow(Xtrain[145])\n",
        "plt.show()\n",
        "plt.imshow(Xtrain[-1],cmap='gray')\n",
        "plt.show()\n",
        "Mymodel=tf.models.Sequential()\n",
        "Mymodel\n",
        "Mymodel.add(tf.layers.Flatten())\n",
        "Mymodel.add(tf.layers.Dense(784,activation='relu'))\n",
        "Mymodel.add(tf.layers.Dense(10,activation='softmax'))\n",
        "Mymodel.compile(loss='sparse_categorical_crossentropy',optimizer='adam',metrics=['accuracy'])"
      ],
      "metadata": {
        "colab": {
          "base_uri": "https://localhost:8080/",
          "height": 761
        },
        "id": "owSRwqPCXk7O",
        "outputId": "0e26dd9a-c85b-4b2e-85de-585b76dd57f7"
      },
      "execution_count": null,
      "outputs": [
        {
          "output_type": "display_data",
          "data": {
            "image/png": "[encoded data removed]",
            "text/plain": [
              "<Figure size 432x288 with 1 Axes>"
            ]
          },
          "metadata": {
            "needs_background": "light"
          }
        },
        {
          "output_type": "display_data",
          "data": {
            "image/png": "[encoded data removed]",
            "text/plain": [
              "<Figure size 432x288 with 1 Axes>"
            ]
          },
          "metadata": {
            "needs_background": "light"
          }
        },
        {
          "output_type": "display_data",
          "data": {
            "image/png": "[encoded data removed]",
            "text/plain": [
              "<Figure size 432x288 with 1 Axes>"
            ]
          },
          "metadata": {
            "needs_background": "light"
          }
        }
      ]
    },
    {
      "cell_type": "code",
      "source": [
        "Xtrain=Xtrain/255\n",
        "Xtest=Xtest/255\n",
        "# Training\n",
        "Mymodel.fit(Xtrain,Ytrain,epochs=15)"
      ],
      "metadata": {
        "colab": {
          "base_uri": "https://localhost:8080/"
        },
        "id": "tj-U8mH_YKiF",
        "outputId": "e1ee130d-2fbd-4b95-814c-802c86993834"
      },
      "execution_count": null,
      "outputs": [
        {
          "output_type": "stream",
          "name": "stdout",
          "text": [
            "Epoch 1/15\n",
            "1875/1875 [==============================] - 18s 9ms/step - loss: 0.1903 - accuracy: 0.9427\n",
            "Epoch 2/15\n",
            "1875/1875 [==============================] - 16s 8ms/step - loss: 0.0758 - accuracy: 0.9763\n",
            "Epoch 3/15\n",
            "1875/1875 [==============================] - 19s 10ms/step - loss: 0.0501 - accuracy: 0.9844\n",
            "Epoch 4/15\n",
            "1875/1875 [==============================] - 19s 10ms/step - loss: 0.0340 - accuracy: 0.9888\n",
            "Epoch 5/15\n",
            "1875/1875 [==============================] - 18s 9ms/step - loss: 0.0249 - accuracy: 0.9916\n",
            "Epoch 6/15\n",
            "1875/1875 [==============================] - 20s 10ms/step - loss: 0.0216 - accuracy: 0.9929\n",
            "Epoch 7/15\n",
            "1875/1875 [==============================] - 22s 12ms/step - loss: 0.0168 - accuracy: 0.9943\n",
            "Epoch 8/15\n",
            "1875/1875 [==============================] - 14s 8ms/step - loss: 0.0136 - accuracy: 0.9955\n",
            "Epoch 9/15\n",
            "1875/1875 [==============================] - 14s 7ms/step - loss: 0.0134 - accuracy: 0.9957\n",
            "Epoch 10/15\n",
            "1875/1875 [==============================] - 15s 8ms/step - loss: 0.0101 - accuracy: 0.9966\n",
            "Epoch 11/15\n",
            "1875/1875 [==============================] - 14s 7ms/step - loss: 0.0109 - accuracy: 0.9964\n",
            "Epoch 12/15\n",
            "1875/1875 [==============================] - 14s 7ms/step - loss: 0.0104 - accuracy: 0.9964\n",
            "Epoch 13/15\n",
            "1875/1875 [==============================] - 14s 8ms/step - loss: 0.0097 - accuracy: 0.9970\n",
            "Epoch 14/15\n",
            "1875/1875 [==============================] - 13s 7ms/step - loss: 0.0079 - accuracy: 0.9973\n",
            "Epoch 15/15\n",
            "1875/1875 [==============================] - 11s 6ms/step - loss: 0.0094 - accuracy: 0.9967\n"
          ]
        },
        {
          "output_type": "execute_result",
          "data": {
            "text/plain": [
              "<keras.callbacks.History at 0x7f8c1dd280d0>"
            ]
          },
          "metadata": {},
          "execution_count": 8
        }
      ]
    },
    {
      "cell_type": "code",
      "source": [
        "Ypred=Mymodel.predict(Xtest)\n",
        "Ypred[0]\n",
        "np.argmax(Ypred[0])\n",
        "Ytest[0]\n",
        "Mymodel.evaluate(Xtest,Ytest)\n"
      ],
      "metadata": {
        "colab": {
          "base_uri": "https://localhost:8080/"
        },
        "id": "I2waI58ZYO-D",
        "outputId": "84c16509-e1e6-4ba6-86be-9f2cdf7240fa"
      },
      "execution_count": null,
      "outputs": [
        {
          "output_type": "stream",
          "name": "stdout",
          "text": [
            "313/313 [==============================] - 1s 3ms/step - loss: 0.1018 - accuracy: 0.9819\n"
          ]
        },
        {
          "output_type": "execute_result",
          "data": {
            "text/plain": [
              "[0.10182105749845505, 0.9818999767303467]"
            ]
          },
          "metadata": {},
          "execution_count": 9
        }
      ]
    },
    {
      "cell_type": "code",
      "source": [
        "TestIm=cv2.imread('New.png',0)\n",
        "plt.imshow(TestIm,cmap='gray')\n",
        "plt.show()\n",
        "TestIm=cv2.bitwise_not(TestIm)\n",
        "plt.imshow(TestIm,cmap='gray')\n",
        "plt.show()\n",
        "TestIm=cv2.resize(TestIm,(28,28))\n",
        "plt.imshow(TestIm,cmap='gray')\n",
        "plt.show()\n",
        "TestIm=TestIm/255\n",
        "plt.imshow(TestIm,cmap='gray')\n",
        "plt.show()\n",
        "Out=Mymodel.predict(np.array([[TestIm]]))\n",
        "Out\n",
        "np.argmax(Out)"
      ],
      "metadata": {
        "id": "pVoKb7FmYcBi"
      },
      "execution_count": null,
      "outputs": []
    }
  ]
}